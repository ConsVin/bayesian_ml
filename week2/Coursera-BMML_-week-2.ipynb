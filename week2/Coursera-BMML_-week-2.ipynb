{
 "cells": [
  {
   "cell_type": "markdown",
   "metadata": {},
   "source": [
    "# Expectation-maximization algorithm"
   ]
  },
  {
   "cell_type": "markdown",
   "metadata": {},
   "source": [
    "In this assignment, we will derive and implement formulas for Gaussian Mixture Model — one of the most commonly used methods for performing soft clustering of the data. "
   ]
  },
  {
   "cell_type": "markdown",
   "metadata": {},
   "source": [
    "### Installation\n",
    "\n",
    "We will need ```numpy```, ```scikit-learn```, ```matplotlib``` libraries for this assignment"
   ]
  },
  {
   "cell_type": "code",
   "execution_count": 233,
   "metadata": {},
   "outputs": [],
   "source": [
    "import numpy as np\n",
    "from numpy.linalg import slogdet, det, solve\n",
    "import matplotlib.pyplot as plt\n",
    "import time\n",
    "from sklearn.datasets import load_digits\n",
    "from grader import Grader\n",
    "%matplotlib inline"
   ]
  },
  {
   "cell_type": "markdown",
   "metadata": {},
   "source": [
    "### Grading\n",
    "We will create a grader instance below and use it to collect your answers. Note that these outputs will be stored locally inside grader and will be uploaded to the platform only after running submitting function in the last part of this assignment. If you want to make a partial submission, you can run that cell anytime you want."
   ]
  },
  {
   "cell_type": "code",
   "execution_count": 234,
   "metadata": {},
   "outputs": [],
   "source": [
    "grader = Grader()"
   ]
  },
  {
   "cell_type": "markdown",
   "metadata": {},
   "source": [
    "## Implementing EM for GMM"
   ]
  },
  {
   "cell_type": "markdown",
   "metadata": {},
   "source": [
    "For debugging we will use samples from gaussian mixture model with unknown mean, variance and priors. We also added inital values of parameters for grading purposes."
   ]
  },
  {
   "cell_type": "code",
   "execution_count": 235,
   "metadata": {},
   "outputs": [
    {
     "data": {
      "image/png": "[encoded data removed]",
      "text/plain": [
       "<matplotlib.figure.Figure at 0x92c4630>"
      ]
     },
     "metadata": {},
     "output_type": "display_data"
    }
   ],
   "source": [
    "samples = np.load('samples.npz')\n",
    "X = samples['data']\n",
    "pi0 = samples['pi0']\n",
    "mu0 = samples['mu0']\n",
    "sigma0 = samples['sigma0']\n",
    "plt.scatter(X[:, 0], X[:, 1], c='grey', s=30)\n",
    "plt.axis('equal')\n",
    "plt.show()"
   ]
  },
  {
   "cell_type": "markdown",
   "metadata": {},
   "source": [
    "### Reminder"
   ]
  },
  {
   "cell_type": "markdown",
   "metadata": {},
   "source": [
    "Remember, that EM algorithm is a coordinate descent optimization of variational lower bound $\\mathcal{L}(\\theta, q) = \\int q(T) \\log\\frac{P(X, T|\\theta)}{q(T)}dT\\to \\max$.\n",
    "\n",
    "<b>E-step</b>:<br>\n",
    "$\\mathcal{L}(\\theta, q) \\to \\max\\limits_{q} \\Leftrightarrow \\mathcal{KL} [q(T) \\,\\|\\, p(T|X, \\theta)] \\to \\min \\limits_{q\\in Q} \\Rightarrow q(T) = p(T|X, \\theta)$<br>\n",
    "<b>M-step</b>:<br> \n",
    "$\\mathcal{L}(\\theta, q) \\to \\max\\limits_{\\theta} \\Leftrightarrow \\mathbb{E}_{q(T)}\\log p(X,T | \\theta) \\to \\max\\limits_{\\theta}$\n",
    "\n",
    "For GMM, $\\theta$ is a set of parameters that consists of mean vectors $\\mu_c$, covariance matrices $\\Sigma_c$ and priors $\\pi_c$ for each component.\n",
    "\n",
    "Latent variables $T$ are indices of components to which each data point is assigned. $T_i$ (cluster index for object $i$) is a binary vector with only one active bit in position corresponding to the true component. For example, if we have $C=3$ components and object $i$ lies in first component, $T_i = [1, 0, 0]$.\n",
    "\n",
    "The joint distribution can be written as follows: $p(T, X \\mid \\theta) =  \\prod\\limits_{i=1}^N p(T_i, X_i \\mid \\theta) = \\prod\\limits_{i=1}^N \\prod\\limits_{c=1}^C [\\pi_c \\mathcal{N}(X_i \\mid \\mu_c, \\Sigma_c)]^{T_{ic}}$."
   ]
  },
  {
   "cell_type": "markdown",
   "metadata": {},
   "source": [
    "### E-step\n",
    "In this step we need to estimate the posterior distribution over the latent variables with fixed values of parameters: $q(T) = p(T|X, \\theta)$. We will assume that $T_i$ (cluster index for object $i$) is a binary vector with only one '1' in position corresponding to the true component. To do so we need to compute $\\gamma_{ic} = P(T_{ic} = 1 \\mid X, \\theta)$. Note that $\\sum\\limits_{c=1}^C\\gamma_{ic}=1$.\n"
   ]
  },
  {
   "cell_type": "markdown",
   "metadata": {},
   "source": [
    "<b>Important trick 1:</b> It is important to avoid numerical errors. At some point you will have to compute the formula of the following form: $\\frac{e^{x_i}}{\\sum_j e^{x_j}}$. When you compute exponents of large numbers, you get huge numerical errors (some numbers will simply become infinity). You can avoid this by dividing numerator and denominator by $e^{\\max(x)}$: $\\frac{e^{x_i-\\max(x)}}{\\sum_j e^{x_j - \\max(x)}}$. After this transformation maximum value in the denominator will be equal to one. All other terms will contribute smaller values. This trick is called log-sum-exp. So, to compute desired formula you first subtract maximum value from each component in vector $X$ and then compute everything else as before.\n",
    "\n",
    "<b>Important trick 2:</b> You will probably need to compute formula of the form $A^{-1}x$ at some point. You would normally inverse $A$ and then multiply it by $x$. A bit faster and more numerically accurate way to do this is to solve the equation $Ay = x$. Its solution is $y=A^{-1}x$, but the equation $Ay = x$ can be solved by Gaussian elimination procedure. You can use ```np.linalg.solve``` for this.\n",
    "\n",
    "<b>Other usefull functions: </b> <a href=\"https://docs.scipy.org/doc/numpy/reference/generated/numpy.linalg.slogdet.html\">```slogdet```</a> and <a href=\"https://docs.scipy.org/doc/numpy/reference/generated/numpy.linalg.det.html#numpy.linalg.det\">```det```</a>"
   ]
  },
  {
   "cell_type": "markdown",
   "metadata": {},
   "source": [
    "<b>Task 1:</b> Implement E-step for GMM using template below."
   ]
  },
  {
   "cell_type": "code",
   "execution_count": 236,
   "metadata": {},
   "outputs": [
    {
     "name": "stdout",
     "output_type": "stream",
     "text": [
      "X      shape  (280, 2)\n",
      "pi0    shape  (3,)\n",
      "mu0    shape  (3, 2)\n",
      "sigma0 shape  (3, 2, 2)\n"
     ]
    }
   ],
   "source": [
    "from scipy.stats import multivariate_normal as mvn\n",
    "\n",
    "def E_step(X, pi, mu, sigma):\n",
    "    \"\"\"\n",
    "    Performs E-step on GMM model\n",
    "    Each input is numpy array:\n",
    "    X: (N x d), data points\n",
    "    pi: (C), mixture component weights \n",
    "    mu: (C x d), mixture component means\n",
    "    sigma: (C x d x d), mixture component covariance matrices\n",
    "    \n",
    "    Returns:\n",
    "    gamma: (N x C), probabilities of clusters for objects\n",
    "    \"\"\"\n",
    "    N = X.shape[0] # number of objects\n",
    "    C = pi.shape[0] # number of clusters\n",
    "    d = mu.shape[1] # dimension of each object\n",
    "    gamma = np.zeros((N, C)) # distribution q(T)\n",
    "    \n",
    "    g     = np.zeros((N, C)) \n",
    "    for i in range(N):\n",
    "        for c in range(C):\n",
    "            g[i,c]=pi[c]*mvn(mu[c],sigma[c]).pdf(X[i])\n",
    "    for i in range(N):\n",
    "        norm=sum(g[i]);\n",
    "        for c in range(C):\n",
    "            gamma[i,c]=g[i,c]/norm;\n",
    "    \n",
    "    return gamma\n",
    "\n",
    "print('X      shape ' , X.shape      )\n",
    "print('pi0    shape ' , pi0.shape    )\n",
    "print('mu0    shape ' , mu0.shape    )\n",
    "print('sigma0 shape ' , sigma0.shape )\n",
    "\n",
    "\n",
    "gamma = E_step(X, pi0, mu0, sigma0);\n"
   ]
  },
  {
   "cell_type": "code",
   "execution_count": 237,
   "metadata": {},
   "outputs": [
    {
     "name": "stdout",
     "output_type": "stream",
     "text": [
      "Current answer for task Task 1 (E-step) is: 0.533717874108\n"
     ]
    }
   ],
   "source": [
    "gamma = E_step(X, pi0, mu0, sigma0)\n",
    "grader.submit_e_step(gamma)"
   ]
  },
  {
   "cell_type": "markdown",
   "metadata": {},
   "source": [
    "### M-step\n",
    "\n",
    "In M-step we need to maximize $\\mathbb{E}_{q(T)}\\log p(X,T | \\theta)$ with respect to $\\theta$. In our model this means that we need to find optimal values of $\\pi$, $\\mu$, $\\Sigma$. To do so, you need to compute the derivatives and \n",
    "set them to zero. You should start by deriving formulas for $\\mu$ as it is the easiest part. Then move on to $\\Sigma$. Here it is crucial to optimize function w.r.t. to $\\Lambda = \\Sigma^{-1}$ and then inverse obtained result. Finaly, to compute $\\pi$, you will need <a href=\"https://www3.nd.edu/~jstiver/FIN360/Constrained%20Optimization.pdf\">Lagrange Multipliers technique</a> to satisfy constraint $\\sum\\limits_{i=1}^{n}\\pi_i = 1$.\n",
    "\n",
    "<br>\n",
    "<b>Important note:</b> You will need to compute derivatives of scalars with respect to matrices. To refresh this technique from previous courses, see <a href=\"https://en.wikipedia.org/wiki/Matrix_calculus\"> wiki article</a> about it . Main formulas of matrix derivatives can be found in <a href=\"http://www2.imm.dtu.dk/pubdb/views/edoc_download.php/3274/pdf/imm3274.pdf\">Chapter 2 of The Matrix Cookbook</a>. For example, there you may find that $\\frac{\\partial}{\\partial A}\\log |A| = A^{-T}$.\n"
   ]
  },
  {
   "cell_type": "markdown",
   "metadata": {},
   "source": [
    "<b>Task 2:</b> Implement M-step for GMM using template below."
   ]
  },
  {
   "cell_type": "code",
   "execution_count": 238,
   "metadata": {},
   "outputs": [],
   "source": [
    "from numpy import matmul\n",
    "def M_step(X, gamma):\n",
    "    \"\"\"\n",
    "    Performs M-step on GMM model\n",
    "    Each input is numpy array:\n",
    "    X: (N x d), data points\n",
    "    gamma: (N x C), distribution q(T)  \n",
    "    \n",
    "    Returns:\n",
    "    pi: (C)\n",
    "    mu: (C x d)\n",
    "    sigma: (C x d x d)\n",
    "    \"\"\"\n",
    "    N = X.shape[0] # number of objects\n",
    "    C = gamma.shape[1] # number of clusters\n",
    "    d = X.shape[1] # dimension of each object\n",
    "\n",
    "    ### YOUR CODE HERE\n",
    "    pi = np.zeros((C))\n",
    "    mu = np.zeros((C,d))\n",
    "    sigma = np.zeros((C,d,d))\n",
    "    \n",
    "    # calc pi vec\n",
    "    for c in range(C):\n",
    "        pi[c]=sum(gamma[:,c])/N\n",
    "    \n",
    "    # Calc mu matrix\n",
    "    for c in range(C):\n",
    "        for j in range(d):\n",
    "            upper_sum = 0;\n",
    "            lower_sum = 0;\n",
    "            for i in range(N):\n",
    "                upper_sum +=X[i,j]*gamma[i,c];\n",
    "                lower_sum += gamma[i,c];\n",
    "            mu[c,j] = upper_sum / lower_sum;\n",
    "    \n",
    "    # calc sigma tensor\n",
    "    for c in range(C):\n",
    "        upper_sum = 0;\n",
    "        lower_sum = 0;\n",
    "        for i in range(N):\n",
    "            x_shift = np.matrix(X[i]-mu[c]) # [d,]*[d,]T=scalar\n",
    "            prod = matmul(x_shift.T,x_shift);\n",
    "            upper_sum += gamma[i,c]*prod\n",
    "            lower_sum += gamma[i,c];\n",
    "        sigma[c] = upper_sum / lower_sum;\n",
    "            \n",
    "        \n",
    "    \n",
    "    \n",
    "\n",
    "    return pi, mu, sigma"
   ]
  },
  {
   "cell_type": "code",
   "execution_count": 239,
   "metadata": {},
   "outputs": [
    {
     "name": "stdout",
     "output_type": "stream",
     "text": [
      "Current answer for task Task 2 (M-step: mu) is: 2.89939188205\n",
      "Current answer for task Task 2 (M-step: sigma) is: 5.9771052169\n",
      "Current answer for task Task 2 (M-step: pi) is: 0.550762445922\n"
     ]
    }
   ],
   "source": [
    "gamma = E_step(X, pi0, mu0, sigma0)\n",
    "pi, mu, sigma = M_step(X, gamma)\n",
    "grader.submit_m_step(pi, mu, sigma)"
   ]
  },
  {
   "cell_type": "markdown",
   "metadata": {},
   "source": [
    "### Loss function"
   ]
  },
  {
   "cell_type": "markdown",
   "metadata": {},
   "source": [
    "Finally, we need some function to track convergence. We will use variational lower bound $\\mathcal{L}$ for this purpose. We will stop our EM iterations when $\\mathcal{L}$ will saturate. Usually, you will need only about 10-20 iterations to converge. It is also useful to check that this function never decreases during training. If it does, you have a bug in your code.\n",
    "\n",
    "<b>Task 3:</b> Implement a function that will compute $\\mathcal{L}$ using template below.\n",
    "\n",
    "$$\\mathcal{L} = \\sum_{n=1}^{N} \\sum_{k=1}^{K} \\mathbb{E}[z_{n, k}] (\\log \\pi_k + \\log \\mathcal{N}(x_n | \\mu_k, \\sigma_k)) - \\sum_{n=1}^{N} \\sum_{k=1}^{K} \\mathbb{E}[z_{n, k}] \\log \\mathbb{E}[z_{n, k}]$$"
   ]
  },
  {
   "cell_type": "code",
   "execution_count": 240,
   "metadata": {},
   "outputs": [],
   "source": [
    "def compute_vlb(X, pi, mu, sigma, gamma):\n",
    "    \"\"\"\n",
    "    Each input is numpy array:\n",
    "    X: (N x d), data points\n",
    "    gamma: (N x C), distribution q(T)  \n",
    "    pi: (C)\n",
    "    mu: (C x d)\n",
    "    sigma: (C x d x d)\n",
    "    \n",
    "    Returns value of variational lower bound\n",
    "    \"\"\"\n",
    "    N = X.shape[0] # number of objects\n",
    "    C = gamma.shape[1] # number of clusters\n",
    "    D = X.shape[1] # dimension of each object\n",
    "    loss = 0;\n",
    "    for c in range(C):\n",
    "        lg_pi =np.log(pi[c])\n",
    "        for n in range(N):\n",
    "            loss+=(np.log(mvn(mu[c],sigma[c]).pdf(X[n])+(1E-9))+lg_pi)*gamma[n,c]\n",
    "    for c in range(C):\n",
    "        for n in range(N):\n",
    "            loss-=(np.log(gamma[n,c]))*gamma[n,c]\n",
    " \n",
    "    \n",
    "    ### YOUR CODE HERE\n",
    "\n",
    "    return loss"
   ]
  },
  {
   "cell_type": "code",
   "execution_count": 241,
   "metadata": {},
   "outputs": [
    {
     "name": "stdout",
     "output_type": "stream",
     "text": [
      "Current answer for task Task 3 (VLB) is: -1213.97284148\n"
     ]
    }
   ],
   "source": [
    "pi, mu, sigma = pi0, mu0, sigma0\n",
    "gamma = E_step(X, pi, mu, sigma)\n",
    "pi, mu, sigma = M_step(X, gamma)\n",
    "loss = compute_vlb(X, pi, mu, sigma, gamma)\n",
    "grader.submit_VLB(loss)"
   ]
  },
  {
   "cell_type": "markdown",
   "metadata": {},
   "source": [
    "### Bringing it all together"
   ]
  },
  {
   "cell_type": "markdown",
   "metadata": {},
   "source": [
    "Now that we have E step, M step and VLB, we can implement training loop. We will start at random values of $\\pi$, $\\mu$ and $\\Sigma$, train until $\\mathcal{L}$ stops changing and return the resulting points. We also know that EM algorithm sometimes stops at local optima. To avoid this we should restart algorithm multiple times from different starting positions. Each training trial should stop either when maximum number of iterations is reached or when relative improvement is smaller than given tolerance ($|\\frac{\\mathcal{L}_i-\\mathcal{L}_{i-1}}{\\mathcal{L}_{i-1}}| \\le \\text{rtol}$).\n",
    "\n",
    "Remember, that values of $\\pi$ that you generate must be non-negative and sum up to 1. Also, $\\Sigma$ matrices must be symmetric and positive semi-definite. If you don't know how to generate those matrices, you can use $\\Sigma=I$ as initialization.\n",
    "\n",
    "You will also sometimes get numerical errors because of component collapsing. The easiest way to deal with this problems is to simply restart the procedure.\n",
    "\n",
    "<b>Task 4:</b> Implement training procedure"
   ]
  },
  {
   "cell_type": "code",
   "execution_count": 257,
   "metadata": {},
   "outputs": [
    {
     "data": {
      "text/plain": [
       "(array([ 0.31868802,  0.30984172,  0.37147026]),\n",
       " array([[  3.8862452 ,  18.33517952],\n",
       "        [ -2.2393072 ,  18.44052856],\n",
       "        [ -2.16890686,  19.00404412]]),\n",
       " array([[[ 0.91169125,  0.        ],\n",
       "         [ 0.        ,  0.83450142]],\n",
       " \n",
       "        [[ 0.99442522,  0.        ],\n",
       "         [ 0.        ,  0.92536633]],\n",
       " \n",
       "        [[ 0.83738735,  0.        ],\n",
       "         [ 0.        ,  1.03373135]]]))"
      ]
     },
     "execution_count": 257,
     "metadata": {},
     "output_type": "execute_result"
    }
   ],
   "source": [
    "\n",
    "def random_pi(C,noise_sigma=0.1):\n",
    "    pi = np.ones(C);\n",
    "    pi += noise_sigma * np.random.randn(C);\n",
    "    pi = np.abs(pi)\n",
    "    pi /= sum(pi)\n",
    "    return pi\n",
    "\n",
    "def random_sigma(C,d,noise_sigma=0.1):\n",
    "    sigma = np.zeros((C,d,d));\n",
    "    for c in range(C):\n",
    "        vec_ones = np.ones((d))+noise_sigma*np.random.randn(d);\n",
    "        sigma[c] = np.diag(vec_ones)\n",
    "    return sigma\n",
    "def random_mu(X,C, noise_mu):\n",
    "    N=X.shape[0]\n",
    "    d=X.shape[1]\n",
    "    mu = np.zeros((C,d));\n",
    "    for c in range(C):\n",
    "        idx = np.random.randint(N)\n",
    "        mu[c] = X[idx]\n",
    "    mu+=noise_mu*np.random.randn(d);\n",
    "    \n",
    "    return mu\n",
    "\n",
    "def init_params(X, C=3, noise_pi=0,noise_mu=0,noise_sigma=0):\n",
    "    pi    = random_pi(C,noise_pi);\n",
    "    mu    = random_mu(X,C,noise_mu)\n",
    "    sigma = random_sigma(C,X.shape[1],noise_sigma)\n",
    "    return pi,mu,sigma\n",
    "\n",
    "init_params(X,3,noise_pi=0.1,noise_sigma=0.1,noise_mu=20)\n"
   ]
  },
  {
   "cell_type": "code",
   "execution_count": 275,
   "metadata": {},
   "outputs": [
    {
     "name": "stdout",
     "output_type": "stream",
     "text": [
      "Run 0 Converged on 0 iteration with loss -1158.5753\n",
      "Run 0 Converged on 1 iteration with loss -1150.9772\n",
      "Run 0 Converged on 2 iteration with loss -1144.9711\n",
      "Run 0 Converged on 3 iteration with loss -1137.3443\n",
      "Run 0 Converged on 4 iteration with loss -1128.3687\n",
      "Run 0 Converged on 5 iteration with loss -1119.7795\n",
      "Run 0 Converged on 6 iteration with loss -1113.1049\n",
      "Run 0 Converged on 7 iteration with loss -1108.5673\n",
      "Run 0 Converged on 8 iteration with loss -1105.6048\n",
      "Run 0 Converged on 9 iteration with loss -1103.6055\n",
      "Run 0 Converged on 10 iteration with loss -1102.1399\n",
      "Run 0 Converged on 11 iteration with loss -1100.9528\n",
      "Run 0 Converged on 12 iteration with loss -1099.8958\n",
      "Run 0 Converged on 13 iteration with loss -1098.8715\n",
      "Run 0 Converged on 14 iteration with loss -1097.8004\n",
      "Run 0 Converged on 15 iteration with loss -1096.6048\n",
      "Run 0 Converged on 16 iteration with loss -1095.2009\n",
      "Run 0 Converged on 17 iteration with loss -1093.4760\n",
      "Run 0 Converged on 18 iteration with loss -1091.2025\n",
      "Run 0 Converged on 19 iteration with loss -1087.9830\n",
      "Run 0 Converged on 20 iteration with loss -1083.7566\n",
      "Run 0 Converged on 21 iteration with loss -1078.9351\n",
      "Run 0 Converged on 22 iteration with loss -1071.9475\n",
      "Run 0 Converged on 23 iteration with loss -1064.8966\n",
      "Run 0 Converged on 24 iteration with loss -1064.0218\n",
      "Run 0 Converged on 25 iteration with loss -1063.8744\n",
      "Run 0 Converged on 26 iteration with loss -1063.8301\n",
      "Run 0 Converged on 27 iteration with loss -1063.8172\n",
      "Run 0 Converged on 28 iteration with loss -1063.8134\n",
      "Run 0 Converged on 29 iteration with loss -1063.8121\n",
      "Run 0 Converged on 30 iteration with loss -1063.8116\n",
      "Run 0 Converged on 30 iteration with loss -1063.8116\n",
      "Last Loss -10000000000.0000 -> New loss -1063.8116\n",
      "Run 1 Converged on 0 iteration with loss -1110.6699\n",
      "Run 1 Converged on 1 iteration with loss -1093.5303\n",
      "Run 1 Converged on 2 iteration with loss -1075.4182\n",
      "Run 1 Converged on 3 iteration with loss -1066.9986\n",
      "Run 1 Converged on 4 iteration with loss -1065.6083\n",
      "Run 1 Converged on 5 iteration with loss -1064.7888\n",
      "Run 1 Converged on 6 iteration with loss -1064.3249\n",
      "Run 1 Converged on 7 iteration with loss -1064.0746\n",
      "Run 1 Converged on 8 iteration with loss -1063.9437\n",
      "Run 1 Converged on 9 iteration with loss -1063.8769\n",
      "Run 1 Converged on 10 iteration with loss -1063.8435\n",
      "Run 1 Converged on 11 iteration with loss -1063.8269\n",
      "Run 1 Converged on 12 iteration with loss -1063.8188\n",
      "Run 1 Converged on 13 iteration with loss -1063.8149\n",
      "Run 1 Converged on 14 iteration with loss -1063.8130\n",
      "Run 1 Converged on 15 iteration with loss -1063.8121\n",
      "Run 1 Converged on 15 iteration with loss -1063.8121\n"
     ]
    },
    {
     "data": {
      "text/plain": [
       "(-1063.8116025361471,\n",
       " array([ 0.34158077,  0.55105489,  0.10736434]),\n",
       " array([[ 0.92077626,  0.96470503],\n",
       "        [ 1.22298257,  5.82921127],\n",
       "        [ 6.2946059 ,  4.42968431]]),\n",
       " array([[[ 1.49850233, -0.37363807],\n",
       "         [-0.37363807,  1.42522155]],\n",
       " \n",
       "        [[ 0.94368838,  0.06749004],\n",
       "         [ 0.06749004,  1.10842364]],\n",
       " \n",
       "        [[ 1.71350733,  1.39505134],\n",
       "         [ 1.39505134,  1.32533639]]]))"
      ]
     },
     "execution_count": 275,
     "metadata": {},
     "output_type": "execute_result"
    }
   ],
   "source": [
    "def train_EM(X, C, rtol=1e-3, max_iter=100, restarts=10):\n",
    "    '''\n",
    "    Starts with random initialization *restarts* times\n",
    "    Runs optimization until saturation with *rtol* reached\n",
    "    or *max_iter* iterations were made.\n",
    "    \n",
    "    X: (N, d), data points\n",
    "    C: int, number of clusters\n",
    "    '''\n",
    "    N = X.shape[0] # number of objects\n",
    "    d = X.shape[1] # dimension of each object\n",
    "    best_loss = None\n",
    "    best_pi = None\n",
    "    best_mu = None\n",
    "    best_sigma = None\n",
    "    best_loss = -10E9;\n",
    "    for R in range(restarts):\n",
    "        try:\n",
    "            pi, mu, sigma = init_params(X,C,noise_pi=0.1,noise_sigma=0.1,noise_mu=1)\n",
    "            dloss = 0;\n",
    "            \n",
    "            for i in range(max_iter):\n",
    "                gamma = E_step(X, pi, mu, sigma)\n",
    "                pi, mu, sigma = M_step(X, gamma)\n",
    "                loss = compute_vlb(X, pi, mu, sigma, gamma)\n",
    "                print('Run %d Converged on %d iteration with loss %2.4f'%(R,i,loss))\n",
    "                if ( abs(dloss-loss)<rtol):\n",
    "                    print('Run %d Converged on %d iteration with loss %2.4f'%(R,i,loss))\n",
    "                    break\n",
    "                else:\n",
    "                    dloss=loss;\n",
    "                    \n",
    "            if (loss>best_loss):\n",
    "                print('Last Loss %2.4f -> New loss %2.4f'%(best_loss,loss))\n",
    "                best_loss, best_pi, best_mu, best_sigma = loss,pi, mu, sigma\n",
    "                \n",
    "        except np.linalg.LinAlgError:\n",
    "            print(\"Singular matrix: components collapsed\")\n",
    "            pass\n",
    "\n",
    "    return best_loss, best_pi, best_mu, best_sigma\n",
    "\n",
    "train_EM(X, 3, rtol=1e-3, max_iter=100, restarts=10)"
   ]
  },
  {
   "cell_type": "code",
   "execution_count": 267,
   "metadata": {},
   "outputs": [
    {
     "name": "stdout",
     "output_type": "stream",
     "text": [
      "Run 0 Converged on 0 iteration with loss -1168.2470\n",
      "Run 0 Converged on 1 iteration with loss -1162.6116\n",
      "Run 0 Converged on 2 iteration with loss -1161.4789\n",
      "Run 0 Converged on 3 iteration with loss -1160.7332\n",
      "Run 0 Converged on 4 iteration with loss -1160.2741\n",
      "Run 0 Converged on 5 iteration with loss -1160.0165\n",
      "Run 0 Converged on 6 iteration with loss -1159.8784\n",
      "Run 0 Converged on 7 iteration with loss -1159.8036\n",
      "Run 0 Converged on 8 iteration with loss -1159.7596\n",
      "Run 0 Converged on 9 iteration with loss -1159.7296\n",
      "Run 0 Converged on 10 iteration with loss -1159.7054\n",
      "Run 0 Converged on 11 iteration with loss -1159.6833\n",
      "Run 0 Converged on 12 iteration with loss -1159.6614\n",
      "Run 0 Converged on 13 iteration with loss -1159.6389\n",
      "Run 0 Converged on 14 iteration with loss -1159.6152\n",
      "Run 0 Converged on 15 iteration with loss -1159.5901\n",
      "Run 0 Converged on 16 iteration with loss -1159.5637\n",
      "Run 0 Converged on 17 iteration with loss -1159.5359\n",
      "Run 0 Converged on 18 iteration with loss -1159.5068\n",
      "Run 0 Converged on 19 iteration with loss -1159.4769\n",
      "Run 0 Converged on 20 iteration with loss -1159.4462\n",
      "Run 0 Converged on 21 iteration with loss -1159.4151\n",
      "Run 0 Converged on 22 iteration with loss -1159.3841\n",
      "Run 0 Converged on 23 iteration with loss -1159.3534\n",
      "Run 0 Converged on 24 iteration with loss -1159.3234\n",
      "Run 0 Converged on 25 iteration with loss -1159.2945\n",
      "Run 0 Converged on 26 iteration with loss -1159.2667\n",
      "Run 0 Converged on 27 iteration with loss -1159.2405\n",
      "Run 0 Converged on 28 iteration with loss -1159.2158\n",
      "Run 0 Converged on 29 iteration with loss -1159.1928\n",
      "Run 0 Converged on 30 iteration with loss -1159.1714\n",
      "Run 0 Converged on 31 iteration with loss -1159.1517\n",
      "Run 0 Converged on 32 iteration with loss -1159.1336\n",
      "Run 0 Converged on 33 iteration with loss -1159.1169\n",
      "Run 0 Converged on 34 iteration with loss -1159.1015\n",
      "Run 0 Converged on 35 iteration with loss -1159.0873\n",
      "Run 0 Converged on 36 iteration with loss -1159.0742\n",
      "Run 0 Converged on 37 iteration with loss -1159.0620\n",
      "Run 0 Converged on 38 iteration with loss -1159.0506\n",
      "Run 0 Converged on 39 iteration with loss -1159.0399\n",
      "Run 0 Converged on 40 iteration with loss -1159.0297\n",
      "Run 0 Converged on 41 iteration with loss -1159.0201\n",
      "Run 0 Converged on 42 iteration with loss -1159.0108\n",
      "Run 0 Converged on 43 iteration with loss -1159.0018\n",
      "Run 0 Converged on 44 iteration with loss -1158.9931\n",
      "Run 0 Converged on 45 iteration with loss -1158.9845\n",
      "Run 0 Converged on 46 iteration with loss -1158.9761\n",
      "Run 0 Converged on 47 iteration with loss -1158.9677\n",
      "Run 0 Converged on 48 iteration with loss -1158.9593\n",
      "Run 0 Converged on 49 iteration with loss -1158.9509\n",
      "Run 0 Converged on 50 iteration with loss -1158.9424\n",
      "Run 0 Converged on 51 iteration with loss -1158.9337\n",
      "Run 0 Converged on 52 iteration with loss -1158.9249\n",
      "Run 0 Converged on 53 iteration with loss -1158.9158\n",
      "Run 0 Converged on 54 iteration with loss -1158.9065\n",
      "Run 0 Converged on 55 iteration with loss -1158.8968\n",
      "Run 0 Converged on 56 iteration with loss -1158.8867\n",
      "Run 0 Converged on 57 iteration with loss -1158.8762\n",
      "Run 0 Converged on 58 iteration with loss -1158.8652\n",
      "Run 0 Converged on 59 iteration with loss -1158.8535\n",
      "Run 0 Converged on 60 iteration with loss -1158.8412\n",
      "Run 0 Converged on 61 iteration with loss -1158.8281\n",
      "Run 0 Converged on 62 iteration with loss -1158.8142\n",
      "Run 0 Converged on 63 iteration with loss -1158.7992\n",
      "Run 0 Converged on 64 iteration with loss -1158.7832\n",
      "Run 0 Converged on 65 iteration with loss -1158.7659\n",
      "Run 0 Converged on 66 iteration with loss -1158.7471\n",
      "Run 0 Converged on 67 iteration with loss -1158.7268\n",
      "Run 0 Converged on 68 iteration with loss -1158.7048\n",
      "Run 0 Converged on 69 iteration with loss -1158.6807\n",
      "Run 0 Converged on 70 iteration with loss -1158.6544\n",
      "Run 0 Converged on 71 iteration with loss -1158.6256\n",
      "Run 0 Converged on 72 iteration with loss -1158.5942\n",
      "Run 0 Converged on 73 iteration with loss -1158.5598\n",
      "Run 0 Converged on 74 iteration with loss -1158.5221\n",
      "Run 0 Converged on 75 iteration with loss -1158.4810\n",
      "Run 0 Converged on 76 iteration with loss -1158.4363\n",
      "Run 0 Converged on 77 iteration with loss -1158.3878\n",
      "Run 0 Converged on 78 iteration with loss -1158.3356\n",
      "Run 0 Converged on 79 iteration with loss -1158.2796\n",
      "Run 0 Converged on 80 iteration with loss -1158.2203\n",
      "Run 0 Converged on 81 iteration with loss -1158.1579\n",
      "Run 0 Converged on 82 iteration with loss -1158.0930\n",
      "Run 0 Converged on 83 iteration with loss -1158.0263\n",
      "Run 0 Converged on 84 iteration with loss -1157.9585\n",
      "Run 0 Converged on 85 iteration with loss -1157.8904\n",
      "Run 0 Converged on 86 iteration with loss -1157.8226\n",
      "Run 0 Converged on 87 iteration with loss -1157.7554\n",
      "Run 0 Converged on 88 iteration with loss -1157.6890\n",
      "Run 0 Converged on 89 iteration with loss -1157.6229\n",
      "Run 0 Converged on 90 iteration with loss -1157.5564\n",
      "Run 0 Converged on 91 iteration with loss -1157.4881\n",
      "Run 0 Converged on 92 iteration with loss -1157.4159\n",
      "Run 0 Converged on 93 iteration with loss -1157.3371\n",
      "Run 0 Converged on 94 iteration with loss -1157.2475\n",
      "Run 0 Converged on 95 iteration with loss -1157.1412\n",
      "Run 0 Converged on 96 iteration with loss -1157.0098\n",
      "Run 0 Converged on 97 iteration with loss -1156.8404\n",
      "Run 0 Converged on 98 iteration with loss -1156.6138\n",
      "Run 0 Converged on 99 iteration with loss -1156.3005\n",
      "Last Loss -10000000000.0000 -> New loss -1156.3005\n",
      "Run 1 Converged on 0 iteration with loss -1196.0857\n",
      "Run 1 Converged on 1 iteration with loss -1162.7488\n",
      "Run 1 Converged on 2 iteration with loss -1144.9686\n",
      "Run 1 Converged on 3 iteration with loss -1130.6310\n",
      "Run 1 Converged on 4 iteration with loss -1120.6449\n",
      "Run 1 Converged on 5 iteration with loss -1114.3888\n",
      "Run 1 Converged on 6 iteration with loss -1110.0129\n",
      "Run 1 Converged on 7 iteration with loss -1106.6311\n",
      "Run 1 Converged on 8 iteration with loss -1104.0020\n",
      "Run 1 Converged on 9 iteration with loss -1102.0161\n",
      "Run 1 Converged on 10 iteration with loss -1100.5015\n",
      "Run 1 Converged on 11 iteration with loss -1099.2520\n",
      "Run 1 Converged on 12 iteration with loss -1098.0876\n",
      "Run 1 Converged on 13 iteration with loss -1096.8662\n",
      "Run 1 Converged on 14 iteration with loss -1095.4678\n",
      "Run 1 Converged on 15 iteration with loss -1093.7637\n",
      "Run 1 Converged on 16 iteration with loss -1091.5301\n",
      "Run 1 Converged on 17 iteration with loss -1088.3568\n",
      "Run 1 Converged on 18 iteration with loss -1084.0715\n",
      "Run 1 Converged on 19 iteration with loss -1079.1221\n",
      "Run 1 Converged on 20 iteration with loss -1072.1131\n",
      "Run 1 Converged on 21 iteration with loss -1064.9101\n",
      "Run 1 Converged on 22 iteration with loss -1064.0144\n",
      "Run 1 Converged on 23 iteration with loss -1063.8713\n",
      "Run 1 Converged on 24 iteration with loss -1063.8289\n",
      "Run 1 Converged on 25 iteration with loss -1063.8168\n",
      "Run 1 Converged on 26 iteration with loss -1063.8132\n",
      "Run 1 Converged on 27 iteration with loss -1063.8120\n",
      "Run 1 Converged on 28 iteration with loss -1063.8116\n",
      "-------------- Converged ---------\n",
      "Last Loss -1156.3005 -> New loss -1063.8116\n",
      "Run 2 Converged on 0 iteration with loss -1105.9477\n",
      "Run 2 Converged on 1 iteration with loss -1089.6900\n",
      "Run 2 Converged on 2 iteration with loss -1082.7113\n",
      "Run 2 Converged on 3 iteration with loss -1079.6759\n",
      "Run 2 Converged on 4 iteration with loss -1077.3277\n",
      "Run 2 Converged on 5 iteration with loss -1075.2891\n",
      "Run 2 Converged on 6 iteration with loss -1073.4224\n",
      "Run 2 Converged on 7 iteration with loss -1071.6789\n",
      "Run 2 Converged on 8 iteration with loss -1070.0621\n",
      "Run 2 Converged on 9 iteration with loss -1068.5783\n",
      "Run 2 Converged on 10 iteration with loss -1067.2095\n",
      "Run 2 Converged on 11 iteration with loss -1066.0121\n",
      "Run 2 Converged on 12 iteration with loss -1065.1100\n",
      "Run 2 Converged on 13 iteration with loss -1064.5241\n",
      "Run 2 Converged on 14 iteration with loss -1064.1836\n",
      "Run 2 Converged on 15 iteration with loss -1063.9999\n",
      "Run 2 Converged on 16 iteration with loss -1063.9050\n",
      "Run 2 Converged on 17 iteration with loss -1063.8573\n",
      "Run 2 Converged on 18 iteration with loss -1063.8337\n",
      "Run 2 Converged on 19 iteration with loss -1063.8221\n",
      "Run 2 Converged on 20 iteration with loss -1063.8165\n",
      "Run 2 Converged on 21 iteration with loss -1063.8138\n",
      "Run 2 Converged on 22 iteration with loss -1063.8125\n",
      "Run 2 Converged on 23 iteration with loss -1063.8118\n",
      "-------------- Converged ---------\n"
     ]
    },
    {
     "name": "stdout",
     "output_type": "stream",
     "text": [
      "Run 3 Converged on 0 iteration with loss -1141.7737\n",
      "Run 3 Converged on 1 iteration with loss -1087.1601\n",
      "Run 3 Converged on 2 iteration with loss -1077.0430\n",
      "Run 3 Converged on 3 iteration with loss -1069.7918\n",
      "Run 3 Converged on 4 iteration with loss -1066.7834\n",
      "Run 3 Converged on 5 iteration with loss -1065.5136\n",
      "Run 3 Converged on 6 iteration with loss -1064.7234\n",
      "Run 3 Converged on 7 iteration with loss -1064.2126\n",
      "Run 3 Converged on 8 iteration with loss -1063.9515\n",
      "Run 3 Converged on 9 iteration with loss -1063.8531\n",
      "Run 3 Converged on 10 iteration with loss -1063.8233\n",
      "Run 3 Converged on 11 iteration with loss -1063.8150\n",
      "Run 3 Converged on 12 iteration with loss -1063.8125\n",
      "Run 3 Converged on 13 iteration with loss -1063.8117\n",
      "-------------- Converged ---------\n",
      "Run 4 Converged on 0 iteration with loss -1166.5913\n",
      "Run 4 Converged on 1 iteration with loss -1129.1588\n",
      "Run 4 Converged on 2 iteration with loss -1097.6225\n",
      "Run 4 Converged on 3 iteration with loss -1093.4077\n",
      "Run 4 Converged on 4 iteration with loss -1089.4549\n",
      "Run 4 Converged on 5 iteration with loss -1084.5895\n",
      "Run 4 Converged on 6 iteration with loss -1078.4130\n",
      "Run 4 Converged on 7 iteration with loss -1072.2787\n",
      "Run 4 Converged on 8 iteration with loss -1067.9658\n",
      "Run 4 Converged on 9 iteration with loss -1065.8486\n",
      "Run 4 Converged on 10 iteration with loss -1064.8157\n",
      "Run 4 Converged on 11 iteration with loss -1064.2459\n",
      "Run 4 Converged on 12 iteration with loss -1063.9632\n",
      "Run 4 Converged on 13 iteration with loss -1063.8561\n",
      "Run 4 Converged on 14 iteration with loss -1063.8238\n",
      "Run 4 Converged on 15 iteration with loss -1063.8150\n",
      "Run 4 Converged on 16 iteration with loss -1063.8125\n",
      "Run 4 Converged on 17 iteration with loss -1063.8117\n",
      "-------------- Converged ---------\n",
      "Run 5 Converged on 0 iteration with loss -1174.0394\n",
      "Run 5 Converged on 1 iteration with loss -1161.5381\n",
      "Run 5 Converged on 2 iteration with loss -1158.6013\n",
      "Run 5 Converged on 3 iteration with loss -1157.2111\n",
      "Run 5 Converged on 4 iteration with loss -1156.2010\n",
      "Run 5 Converged on 5 iteration with loss -1155.1561\n",
      "Run 5 Converged on 6 iteration with loss -1153.8311\n",
      "Run 5 Converged on 7 iteration with loss -1152.0424\n",
      "Run 5 Converged on 8 iteration with loss -1149.6846\n",
      "Run 5 Converged on 9 iteration with loss -1146.7819\n",
      "Run 5 Converged on 10 iteration with loss -1143.4792\n",
      "Run 5 Converged on 11 iteration with loss -1139.9325\n",
      "Run 5 Converged on 12 iteration with loss -1136.1643\n",
      "Run 5 Converged on 13 iteration with loss -1131.9672\n",
      "Run 5 Converged on 14 iteration with loss -1127.0428\n",
      "Run 5 Converged on 15 iteration with loss -1121.5083\n",
      "Run 5 Converged on 16 iteration with loss -1115.9944\n",
      "Run 5 Converged on 17 iteration with loss -1111.0827\n",
      "Run 5 Converged on 18 iteration with loss -1107.1741\n",
      "Run 5 Converged on 19 iteration with loss -1104.4018\n",
      "Run 5 Converged on 20 iteration with loss -1102.5232\n",
      "Run 5 Converged on 21 iteration with loss -1101.1590\n",
      "Run 5 Converged on 22 iteration with loss -1100.0333\n",
      "Run 5 Converged on 23 iteration with loss -1098.9860\n",
      "Run 5 Converged on 24 iteration with loss -1097.9130\n",
      "Run 5 Converged on 25 iteration with loss -1096.7277\n",
      "Run 5 Converged on 26 iteration with loss -1095.3438\n",
      "Run 5 Converged on 27 iteration with loss -1093.6520\n",
      "Run 5 Converged on 28 iteration with loss -1091.4401\n",
      "Run 5 Converged on 29 iteration with loss -1088.3171\n",
      "Run 5 Converged on 30 iteration with loss -1084.1565\n",
      "Run 5 Converged on 31 iteration with loss -1079.4034\n",
      "Run 5 Converged on 32 iteration with loss -1072.7156\n",
      "Run 5 Converged on 33 iteration with loss -1065.1550\n",
      "Run 5 Converged on 34 iteration with loss -1064.0455\n",
      "Run 5 Converged on 35 iteration with loss -1063.8813\n",
      "Run 5 Converged on 36 iteration with loss -1063.8321\n",
      "Run 5 Converged on 37 iteration with loss -1063.8178\n",
      "Run 5 Converged on 38 iteration with loss -1063.8135\n",
      "Run 5 Converged on 39 iteration with loss -1063.8121\n",
      "Run 5 Converged on 40 iteration with loss -1063.8116\n",
      "-------------- Converged ---------\n",
      "Run 6 Converged on 0 iteration with loss -1215.3695\n",
      "Run 6 Converged on 1 iteration with loss -1192.0881\n",
      "Run 6 Converged on 2 iteration with loss -1178.5350\n",
      "Run 6 Converged on 3 iteration with loss -1145.4909\n",
      "Run 6 Converged on 4 iteration with loss -1134.1989\n",
      "Run 6 Converged on 5 iteration with loss -1133.6503\n",
      "Run 6 Converged on 6 iteration with loss -1133.3038\n",
      "Run 6 Converged on 7 iteration with loss -1132.9609\n",
      "Run 6 Converged on 8 iteration with loss -1132.5729\n",
      "Run 6 Converged on 9 iteration with loss -1132.0981\n",
      "Run 6 Converged on 10 iteration with loss -1131.4909\n",
      "Run 6 Converged on 11 iteration with loss -1130.7000\n",
      "Run 6 Converged on 12 iteration with loss -1129.6705\n",
      "Run 6 Converged on 13 iteration with loss -1128.3535\n",
      "Run 6 Converged on 14 iteration with loss -1126.7213\n",
      "Run 6 Converged on 15 iteration with loss -1124.7846\n",
      "Run 6 Converged on 16 iteration with loss -1122.5989\n",
      "Run 6 Converged on 17 iteration with loss -1120.2476\n",
      "Run 6 Converged on 18 iteration with loss -1117.8070\n",
      "Run 6 Converged on 19 iteration with loss -1115.3236\n",
      "Run 6 Converged on 20 iteration with loss -1112.8208\n",
      "Run 6 Converged on 21 iteration with loss -1110.3124\n",
      "Run 6 Converged on 22 iteration with loss -1107.7943\n",
      "Run 6 Converged on 23 iteration with loss -1105.2123\n",
      "Run 6 Converged on 24 iteration with loss -1102.4042\n",
      "Run 6 Converged on 25 iteration with loss -1098.9608\n",
      "Run 6 Converged on 26 iteration with loss -1094.1600\n",
      "Run 6 Converged on 27 iteration with loss -1087.5833\n",
      "Run 6 Converged on 28 iteration with loss -1080.3288\n",
      "Run 6 Converged on 29 iteration with loss -1075.1667\n",
      "Run 6 Converged on 30 iteration with loss -1071.9046\n",
      "Run 6 Converged on 31 iteration with loss -1069.3608\n",
      "Run 6 Converged on 32 iteration with loss -1067.2471\n",
      "Run 6 Converged on 33 iteration with loss -1065.6226\n",
      "Run 6 Converged on 34 iteration with loss -1064.5872\n",
      "Run 6 Converged on 35 iteration with loss -1064.0901\n",
      "Run 6 Converged on 36 iteration with loss -1063.9073\n",
      "Run 6 Converged on 37 iteration with loss -1063.8470\n",
      "Run 6 Converged on 38 iteration with loss -1063.8259\n",
      "Run 6 Converged on 39 iteration with loss -1063.8177\n",
      "Run 6 Converged on 40 iteration with loss -1063.8142\n",
      "Run 6 Converged on 41 iteration with loss -1063.8126\n",
      "Run 6 Converged on 42 iteration with loss -1063.8119\n",
      "-------------- Converged ---------\n",
      "Run 7 Converged on 0 iteration with loss -1086.5749\n",
      "Run 7 Converged on 1 iteration with loss -1068.6766\n",
      "Run 7 Converged on 2 iteration with loss -1065.8832\n",
      "Run 7 Converged on 3 iteration with loss -1064.7742\n",
      "Run 7 Converged on 4 iteration with loss -1064.2512\n",
      "Run 7 Converged on 5 iteration with loss -1064.0122\n",
      "Run 7 Converged on 6 iteration with loss -1063.9040\n",
      "Run 7 Converged on 7 iteration with loss -1063.8545\n",
      "Run 7 Converged on 8 iteration with loss -1063.8316\n",
      "Run 7 Converged on 9 iteration with loss -1063.8208\n",
      "Run 7 Converged on 10 iteration with loss -1063.8158\n",
      "Run 7 Converged on 11 iteration with loss -1063.8134\n",
      "Run 7 Converged on 12 iteration with loss -1063.8123\n",
      "Run 7 Converged on 13 iteration with loss -1063.8117\n",
      "-------------- Converged ---------\n",
      "Run 8 Converged on 0 iteration with loss -1153.4103\n",
      "Run 8 Converged on 1 iteration with loss -1124.9464\n",
      "Run 8 Converged on 2 iteration with loss -1114.0370\n",
      "Run 8 Converged on 3 iteration with loss -1108.7019\n",
      "Run 8 Converged on 4 iteration with loss -1105.9023\n",
      "Run 8 Converged on 5 iteration with loss -1104.1058\n",
      "Run 8 Converged on 6 iteration with loss -1102.7192\n",
      "Run 8 Converged on 7 iteration with loss -1101.5370\n",
      "Run 8 Converged on 8 iteration with loss -1100.4684\n",
      "Run 8 Converged on 9 iteration with loss -1099.4500\n",
      "Run 8 Converged on 10 iteration with loss -1098.4211\n",
      "Run 8 Converged on 11 iteration with loss -1097.3153\n",
      "Run 8 Converged on 12 iteration with loss -1096.0587\n",
      "Run 8 Converged on 13 iteration with loss -1094.5647\n",
      "Run 8 Converged on 14 iteration with loss -1092.6948\n",
      "Run 8 Converged on 15 iteration with loss -1090.1547\n",
      "Run 8 Converged on 16 iteration with loss -1086.5836\n",
      "Run 8 Converged on 17 iteration with loss -1082.2162\n",
      "Run 8 Converged on 18 iteration with loss -1077.0618\n",
      "Run 8 Converged on 19 iteration with loss -1069.0457\n",
      "Run 8 Converged on 20 iteration with loss -1064.3870\n",
      "Run 8 Converged on 21 iteration with loss -1063.9607\n",
      "Run 8 Converged on 22 iteration with loss -1063.8563\n"
     ]
    },
    {
     "name": "stdout",
     "output_type": "stream",
     "text": [
      "Run 8 Converged on 23 iteration with loss -1063.8248\n",
      "Run 8 Converged on 24 iteration with loss -1063.8157\n",
      "Run 8 Converged on 25 iteration with loss -1063.8129\n",
      "Run 8 Converged on 26 iteration with loss -1063.8119\n",
      "-------------- Converged ---------\n",
      "Run 9 Converged on 0 iteration with loss -1068.6853\n",
      "Run 9 Converged on 1 iteration with loss -1065.0797\n",
      "Run 9 Converged on 2 iteration with loss -1064.1686\n",
      "Run 9 Converged on 3 iteration with loss -1063.8909\n",
      "Run 9 Converged on 4 iteration with loss -1063.8286\n",
      "Run 9 Converged on 5 iteration with loss -1063.8151\n",
      "Run 9 Converged on 6 iteration with loss -1063.8121\n",
      "Run 9 Converged on 7 iteration with loss -1063.8114\n",
      "-------------- Converged ---------\n",
      "Last Loss -1063.8116 -> New loss -1063.8114\n",
      "Current answer for task Task 4 (EM) is: -1063.81144066\n"
     ]
    }
   ],
   "source": [
    "best_loss, best_pi, best_mu, best_sigma = train_EM(X, 3)\n",
    "grader.submit_EM(best_loss)"
   ]
  },
  {
   "cell_type": "markdown",
   "metadata": {},
   "source": [
    "If you implemented all the steps correctly, your algorithm should converge in about 20 iterations. Let's plot the clusters to see it. We will assign a cluster label as the most probable cluster index. This can be found using matrix $\\gamma$ computed on last E-step. \n"
   ]
  },
  {
   "cell_type": "code",
   "execution_count": 268,
   "metadata": {},
   "outputs": [
    {
     "data": {
      "image/png": "[encoded data removed]",
      "text/plain": [
       "<matplotlib.figure.Figure at 0xa51b7f0>"
      ]
     },
     "metadata": {},
     "output_type": "display_data"
    }
   ],
   "source": [
    "gamma = E_step(X, best_pi, best_mu, best_sigma)\n",
    "labels = gamma.argmax(1)\n",
    "plt.scatter(X[:, 0], X[:, 1], c=labels, s=30)\n",
    "plt.axis('equal')\n",
    "plt.show()"
   ]
  },
  {
   "cell_type": "code",
   "execution_count": 281,
   "metadata": {},
   "outputs": [
    {
     "ename": "SyntaxError",
     "evalue": "invalid syntax (<ipython-input-281-c6492905e82b>, line 2)",
     "output_type": "error",
     "traceback": [
      "\u001b[1;36m  File \u001b[1;32m\"<ipython-input-281-c6492905e82b>\"\u001b[1;36m, line \u001b[1;32m2\u001b[0m\n\u001b[1;33m    x_grid = [[0,0];[0,1];[0,2]]\u001b[0m\n\u001b[1;37m                   ^\u001b[0m\n\u001b[1;31mSyntaxError\u001b[0m\u001b[1;31m:\u001b[0m invalid syntax\n"
     ]
    }
   ],
   "source": [
    "\n",
    "x_grid = [[0,0][0,1];[0,2]]\n",
    "gamma  = E_step(x_grid, best_pi, best_mu, best_sigma)\n",
    "labels = gamma.argmax(1)\n",
    "plt.scatter(X[:, 0], X[:, 1], c=labels, s=30)\n",
    "plt.axis('equal')\n",
    "plt.show()"
   ]
  },
  {
   "cell_type": "markdown",
   "metadata": {},
   "source": [
    "### Authorization & Submission\n",
    "To submit assignment parts to Cousera platform, please, enter your e-mail and your token into variables below. You can generate the token on this programming assignment page. <b>Note:</b> Token expires 30 minutes after generation."
   ]
  },
  {
   "cell_type": "code",
   "execution_count": 271,
   "metadata": {},
   "outputs": [
    {
     "name": "stdout",
     "output_type": "stream",
     "text": [
      "You want to submit these numbers:\n",
      "Task Task 1 (E-step): 0.533717874108\n",
      "Task Task 2 (M-step: mu): 2.89939188205\n",
      "Task Task 2 (M-step: sigma): 5.9771052169\n",
      "Task Task 2 (M-step: pi): 0.550762445922\n",
      "Task Task 3 (VLB): -1213.97284148\n",
      "Task Task 4 (EM): -1063.81144066\n"
     ]
    }
   ],
   "source": [
    "STUDENT_EMAIL = 'const.vin@gmail.com'\n",
    "STUDENT_TOKEN ='mDoqy5uew3xSZh5n'\n",
    "grader.status()"
   ]
  },
  {
   "cell_type": "markdown",
   "metadata": {},
   "source": [
    "If you want to submit these answers, run cell below"
   ]
  },
  {
   "cell_type": "code",
   "execution_count": 272,
   "metadata": {},
   "outputs": [
    {
     "name": "stdout",
     "output_type": "stream",
     "text": [
      "Submitted to Coursera platform. See results on assignment page!\n"
     ]
    }
   ],
   "source": [
    "grader.submit(STUDENT_EMAIL, STUDENT_TOKEN)"
   ]
  }
 ],
 "metadata": {
  "kernelspec": {
   "display_name": "Python 3",
   "language": "python",
   "name": "python3"
  },
  "language_info": {
   "codemirror_mode": {
    "name": "ipython",
    "version": 3
   },
   "file_extension": ".py",
   "mimetype": "text/x-python",
   "name": "python",
   "nbconvert_exporter": "python",
   "pygments_lexer": "ipython3",
   "version": "3.6.5"
  },
  "latex_envs": {
   "bibliofile": "biblio.bib",
   "cite_by": "apalike",
   "current_citInitial": 1,
   "eqLabelWithNumbers": true,
   "eqNumInitial": 0
  }
 },
 "nbformat": 4,
 "nbformat_minor": 2
}
